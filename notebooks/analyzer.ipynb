{
 "cells": [
  {
   "cell_type": "code",
   "execution_count": 1,
   "id": "8e68843a-ab37-4a38-80a6-b640192e652c",
   "metadata": {},
   "outputs": [],
   "source": [
    "import pandas as pd\n",
    "import json\n",
    "import seaborn\n",
    "import requests\n",
    "from openai import OpenAI"
   ]
  },
  {
   "cell_type": "code",
   "execution_count": 9,
   "id": "84560952-4cd5-43e3-9123-9e7f516797ea",
   "metadata": {},
   "outputs": [],
   "source": [
    "with open(\"../test_sintetico_1.jsonl\", \"r\") as file:\n",
    "    cases = [json.loads(line) for line in file]\n",
    "    "
   ]
  },
  {
   "cell_type": "code",
   "execution_count": 51,
   "id": "0abc22cf-878b-4f3c-8da8-b83ebf1dfb78",
   "metadata": {},
   "outputs": [],
   "source": [
    "def checker(input_path):\n",
    "    try:\n",
    "        with open(input_path, \"r\") as file:\n",
    "            cases = [json.loads(line) for line in file]\n",
    "        \n",
    "        fine = 0\n",
    "        fault = 0\n",
    "        fault_cases = []\n",
    "        fine_cases = []\n",
    "        for case in cases:\n",
    "            try:\n",
    "                if case[\"messages\"][2][\"role\"] == \"assistant\":\n",
    "                    fine += 1\n",
    "                    fine_cases.append(case)\n",
    "            except:\n",
    "                fault += 1\n",
    "                fault_cases.append(case)\n",
    "                continue\n",
    "        return {\"fine_cases\": fine_cases, \"fault_cases\": fault_cases}\n",
    "    except Exception as e:\n",
    "        return e"
   ]
  },
  {
   "cell_type": "code",
   "execution_count": 60,
   "id": "72c9ae49-a839-4f05-ae8f-cffd018fd626",
   "metadata": {},
   "outputs": [],
   "source": [
    "result = checker(\"../test_sintetico_1.jsonl\")\n",
    "result_uni = checker(\"../casos_clinicos_unificado.jsonl\")"
   ]
  },
  {
   "cell_type": "code",
   "execution_count": 65,
   "id": "eb284234-fef6-47e5-a0cc-50b040f46174",
   "metadata": {},
   "outputs": [
    {
     "ename": "SyntaxError",
     "evalue": "f-string: unmatched '[' (63542607.py, line 1)",
     "output_type": "error",
     "traceback": [
      "\u001b[0;36m  Cell \u001b[0;32mIn[65], line 1\u001b[0;36m\u001b[0m\n\u001b[0;31m    print(f\"Casos en 'casos_clinicos_unificado.jsonl': {len(result_uni[\"fine_cases\"]}\")\u001b[0m\n\u001b[0m                                                                        ^\u001b[0m\n\u001b[0;31mSyntaxError\u001b[0m\u001b[0;31m:\u001b[0m f-string: unmatched '['\n"
     ]
    }
   ],
   "source": [
    "print(f\"Casos en 'casos_clinicos_unificado.jsonl': {len(result_uni[\"fine_cases\"]}\")"
   ]
  },
  {
   "cell_type": "code",
   "execution_count": 68,
   "id": "097f1bd1-2d1b-4316-b6af-d923f9a6c23a",
   "metadata": {},
   "outputs": [
    {
     "data": {
      "text/plain": [
       "2"
      ]
     },
     "execution_count": 68,
     "metadata": {},
     "output_type": "execute_result"
    }
   ],
   "source": [
    "len(result_uni[\"fine_cases\"])\n",
    "len(result_uni[\"fault_cases\"])"
   ]
  },
  {
   "cell_type": "code",
   "execution_count": 72,
   "id": "2893e200-0fde-4d88-896d-d5df0fc37c1e",
   "metadata": {},
   "outputs": [
    {
     "data": {
      "text/plain": [
       "{'messages': [{'role': 'system',\n",
       "   'content': 'Eres un médico experto en tratamiento de diabetes, utilizas lenguaje técnico. Utilizas tu conocimiento para proporcionar diagnostico, debatir sobre elementos de información faltante y haces recomendaciones de procedimientos y tratamientos médicos respecto a los datos que te han proporcionado, no alucines información médica incorrecta. Vas a recibir del usuario información sobre antecedentes, su cuadro clínico, exploración física y estudios de laboratorio realizados'},\n",
       "  {'role': 'user',\n",
       "   'content': 'Antecedentes: Paciente femenina de 53 años, sin alergias conocidas. Fumadora de 1 paquete/día con diagnóstico de bronquitis crónica, obesidad mórbida (grado 4) con estilo de vida sedentario. Diagnosticada de diabetes mellitus hace más de 15 años y de hipertensión arterial desde hace 17 años. Nunca ha presentado cardiopatía isquémica o evento cerebrovascular y no tiene antecedentes familiares. Historia actual: Es remitida a Medicina Interna y Nefrología para control metabólico y por enfermedad renal crónica. Desde el año 2012 ha presentado proteinuria progresiva, alcanzando en 2019 Proteína/Creatinina 3512 mg/g y Albumina/Creatinina 2590 mg/g, sin clínica de síndrome nefrótico. Exploración física: TA 154/92 mmHG, peso 123 kg (IMC 44.8 kg/m2). Sin soplos carotídeos. Auscultación cardiopulmonar con tonos rítmicos sin soplos e hipofonesis generalizada. Abdomen globuloso, blando y depresible sin masas. Extremidades sin edemas ni signos de celulitis ni de trombosis. Estudios de laboratorio: Pro/Cr 3512 mg/g y Alb/Cr 2590 mg/g, HbA1c 7.8%, Creatinina 4 mg/dl, TFG CKD-EPI 44 ml/min, colesterol total 246 mg/dl y LDL 157 mg/dl. Tratamiento actual: liraglutida 1.2 mg/24h, metformina 850 mg/12h, olmesartan 20 mg/hidroclorotiazida 25mg 1/24h, carvedilol 25 mg 1/24h, manidipino 20 mg 1/24h, alopurinol 100 mg 1/24h y formoterol/beclometasona 1 inhalación/24h. Intervenciones recientes: En junio de 2019 se aumentó liraglutida a 1.8 mg/día, se inició dapagliflozina 10 mg/24h y atorvastatina 40 mg/24h, y se aumentó olmesartan a 40 mg/24h. Resultados a los 4 meses: Descenso de Pro/Cr a 2418 mg/g y Alb/Cr 1780 mg/g, reducción de 4 kg de peso (Peso 119 kg), TA 138/77 mmHg, LDL 94mg/dl y HbA1c 6.8%. Estudio inmunológico: ANCA MPO positivos (54 = positivo débil). Biopsia renal en febrero de 2020: glomeruloesclerosis focal y segmentaria (GSFS), sin signos de vasculitis, necrosis ni semilunas. Ecografía renal: riñones de tamaño y cortical normal e hiperecogénica indicativa de nefropatía. Tratamiento modificado: liraglutida a semaglutida subcutáneo 1 mg/semanal, atorvastatina 80 mg/24h y AAS 100mg/24h. Resultados a marzo de 2020: reducción de peso y proteinuria hasta septiembre de 2021 (Peso 98.5 kg, IMC 36 kg/m2, Pro/Cr 257, Alb/Cr 186, Cr 1.09 mg/dl, FG 57 ml/min, HbA1c 5.8%, LDL 52, TA 124/77 mmHG).'}]}"
      ]
     },
     "execution_count": 72,
     "metadata": {},
     "output_type": "execute_result"
    }
   ],
   "source": [
    "result_uni[\"fault_cases\"][0]"
   ]
  },
  {
   "cell_type": "code",
   "execution_count": 73,
   "id": "2fcfe498-eb22-4f13-ac7e-ccda5969fe66",
   "metadata": {},
   "outputs": [
    {
     "data": {
      "text/plain": [
       "{'messages': [{'role': 'system',\n",
       "   'content': 'Eres un médico experto en tratamiento de diabetes, utilizas lenguaje técnico. Utilizas tu conocimiento para proporcionar diagnostico, debatir sobre elementos de información faltante y haces recomendaciones de procedimientos y tratamientos médicos respecto a los datos que te han proporcionado, no alucines información médica incorrecta. Vas a recibir del usuario información sobre antecedentes, su cuadro clínico, exploración física y estudios de laboratorio realizados'},\n",
       "  {'role': 'user',\n",
       "   'content': 'Antecedentes: Paciente femenina de 41 años sin antecedentes médicos relevantes ni consumo de medicación habitual. Historia actual: Desde hace un año presenta episodios de náuseas, debilidad, diaforesis, sudoración, temblores y mareos sin llegar al síncope, mejorando tras la ingesta de alimentos. Los episodios se han hecho más frecuentes durante el verano, incluso varios al día, y empeoran con el ayuno prolongado. Exploración física: TA 127/72 mmHg, FC 87 lpm, afebril, peso 65 kg, talla 162 cm, IMC 25 kg/m². Sin alteraciones en el examen físico y sin focalidad neurológica. Estudios de laboratorio iniciales: Hemograma y bioquímica normales, glucosa 33 mg/dl, glucosa en analítica dirigida 51 mg/dl, VSG 15 mm/h, TSH 1.4 Uu/ml, cortisol sérico 10 ug/dl, insulina 5.7 mU/L, HbA1c 4.7%, proteinograma y proteínas séricas normales, beta-OH-butirato 2.3 mg/dl, proinsulina 0.6 pmol/L, anticuerpos ANAs y antiinsulina negativos. Descartada presencia de sulfonilureas. Test de ayuno 72 h: positivo en las primeras 12 horas con glucemia 43 mg/dl, acompañado de mareos y cansancio. Administración de 1 mg de glucagón resolvió los síntomas y aumentó la glucemia a 66 mg/dl a los 10 min, 88 mg/dl a los 20 min y 94 mg/dl a los 30 min. Datos de control posteriores: Glucosa: 51 – 28 – 24 – 59 – 57 – 46 – 42 mg/dl, Insulina: 5.7 - 7.6 - 9.4 - 6.2 - 10.8 mU/L, beta-OH-butirato: 2.3 - 5.1 - 8.7 mg/dl, péptido C: 1.53 - 1.29 - 12.49 ng/dL, proinsulina: 0.6 - 1.5 - 1.4 pmol/L. Ecografía abdominal: sin hallazgos patológicos. TC abdominal: lesión nodular ovoidea hipercaptante en fase arterial de 12 mm en el proceso uncinado, sugerente de tumor neuroendocrino. Confirmado mediante ecoendoscopia: lesión próxima a la vía biliar, hipervascularizada, sin otras alteraciones pancreáticas. Tratamiento prequirúrgico: Sensor de monitorización continua de glucosa, recomendaciones dietéticas y uso de glucagón en caso de hipoglucemias severas. Cirugía: Enucleación de la lesión sin complicaciones. Anatomía patológica: tumor neuroendocrino 1.7x1.4 cm bien diferenciado G2, Ki67 10%, cromogranina y sinaptofisina positiva, insulinoma funcional con bordes libres sin invasión linfovascular ni perineural pT1, pNx. Resultados postquirúrgicos: Sin síntomas de hipoglucemia, niveles de glucosa normales (95 mg/dl), valores hormonales y marcadores tumorales normalizados.'}]}"
      ]
     },
     "execution_count": 73,
     "metadata": {},
     "output_type": "execute_result"
    }
   ],
   "source": [
    "result_uni[\"fault_cases\"][1]"
   ]
  },
  {
   "cell_type": "code",
   "execution_count": null,
   "id": "b5c64aae-a794-4170-ba2f-1d4e4ff19db7",
   "metadata": {},
   "outputs": [],
   "source": []
  }
 ],
 "metadata": {
  "kernelspec": {
   "display_name": "Python 3 (ipykernel)",
   "language": "python",
   "name": "python3"
  },
  "language_info": {
   "codemirror_mode": {
    "name": "ipython",
    "version": 3
   },
   "file_extension": ".py",
   "mimetype": "text/x-python",
   "name": "python",
   "nbconvert_exporter": "python",
   "pygments_lexer": "ipython3",
   "version": "3.11.8"
  },
  "widgets": {
   "application/vnd.jupyter.widget-state+json": {
    "state": {},
    "version_major": 2,
    "version_minor": 0
   }
  }
 },
 "nbformat": 4,
 "nbformat_minor": 5
}
