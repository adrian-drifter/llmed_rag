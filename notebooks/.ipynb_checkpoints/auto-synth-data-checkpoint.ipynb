{
 "cells": [
  {
   "cell_type": "code",
   "execution_count": 4,
   "id": "02dc495b-e363-4818-b59a-0787be6fb883",
   "metadata": {},
   "outputs": [],
   "source": [
    "from openai import OpenAI\n",
    "import os\n",
    "from dotenv import load_dotenv"
   ]
  },
  {
   "cell_type": "code",
   "execution_count": 12,
   "id": "a5699a21-e78a-40d5-976c-06b05bbe1ec7",
   "metadata": {},
   "outputs": [
    {
     "data": {
      "text/plain": [
       "True"
      ]
     },
     "execution_count": 12,
     "metadata": {},
     "output_type": "execute_result"
    }
   ],
   "source": [
    "env_path = \"../.env\"\n",
    "load_dotenv(env_path)"
   ]
  },
  {
   "cell_type": "code",
   "execution_count": 13,
   "id": "ce5e459d-50f9-4b32-9584-6b527a5dea34",
   "metadata": {},
   "outputs": [
    {
     "name": "stdout",
     "output_type": "stream",
     "text": [
      "sk-proj-Z9n5bAxGJlWu3cExciihT3BlbkFJ5uFuDNp4Q9Guibg1y5a9\n"
     ]
    }
   ],
   "source": [
    "api_key = os.environ.get(\"OPEN_AI_API_KEY\")\n",
    "print(api_key)"
   ]
  },
  {
   "cell_type": "code",
   "execution_count": 14,
   "id": "f0afe16b-f312-49ad-a43a-56b8e25efe92",
   "metadata": {},
   "outputs": [],
   "source": [
    "client = OpenAI(api_key = os.environ.get(\"OPEN_AI_API_KEY\"))"
   ]
  },
  {
   "cell_type": "code",
   "execution_count": 28,
   "id": "6d296d0b-862b-4324-9dbc-4ec1e4abd2ea",
   "metadata": {},
   "outputs": [
    {
     "name": "stdout",
     "output_type": "stream",
     "text": [
      "ChatCompletion(id='chatcmpl-9d2mSLc6XZrjDzs9NkubEXswj4mQM', choices=[Choice(finish_reason='stop', index=0, logprobs=None, message=ChatCompletionMessage(content='El pie diabético es una complicación seria de la diabetes mellitus que puede llevar a úlceras, infecciones y, en casos graves, amputaciones. Los síntomas del pie diabético pueden variar dependiendo de la gravedad y la extensión del daño. A continuación se detallan los síntomas más comunes:\\n\\n1. **Neuropatía periférica**: \\n   - Pérdida de sensibilidad (hipoestesia) o sensación anormal (parestesia) en los pies.\\n   - Sensación de ardor o dolor, especialmente durante la noche.\\n   - Debilidad muscular.\\n\\n2. **Problemas circulatorios**:\\n   - Piel fría y pálida en los pies.\\n   - Pulsos periféricos disminuidos o ausentes.\\n   - Claudicación intermitente (dolor en las piernas al caminar que se alivia con el reposo).\\n\\n3. **Cambios en la piel y uñas**:\\n   - Piel seca y agrietada.\\n   - Callosidades o durezas en áreas de presión.\\n   - Uñas engrosadas y deformadas.\\n\\n4. **Úlceras y lesiones**:\\n   - Aparición de úlceras o llagas que no cicatrizan.\\n   - Heridas que drenan pus o tienen mal olor.\\n   - Enrojecimiento, hinchazón y calor en el área afectada.\\n\\n5. **Infecciones**:\\n   - Signos de infección como enrojecimiento, calor, hinchazón y dolor.\\n   - Fiebre en casos severos de infección.\\n\\n6. **Deformidades**:\\n   - Dedos en martillo o en garra.\\n   - Pie de Charcot (una deformidad severa del pie que incluye fracturas y dislocaciones).\\n\\nEs importante que cualquier paciente con diabetes preste atención a estos síntomas y consulte a un profesional de la salud si presenta alguno de ellos. La detección temprana y el manejo adecuado son cruciales para prevenir complicaciones graves.', role='assistant', function_call=None, tool_calls=None))], created=1719092508, model='gpt-4o-2024-05-13', object='chat.completion', system_fingerprint='fp_3e7d703517', usage=CompletionUsage(completion_tokens=416, prompt_tokens=102, total_tokens=518))\n"
     ]
    }
   ],
   "source": [
    "content = \"cuales son los sintomas de pie diabetico?\"\n",
    "\n",
    "response = client.chat.completions.create(\n",
    "    model=\"gpt-4o\",\n",
    "    temperature = 0.5,\n",
    "    messages = [\n",
    "        {\"role\": \"system\", \"content\": \"Eres un médico experto en tratamiento de diabetes, utilizas lenguaje técnico. Utilizas tu conocimiento para proporcionar diagnostico, debatir sobre elementos de información faltante y haces recomendaciones de procedimientos y tratamientos médicos respecto a los datos que te han proporcionado, no alucines información médica incorrecta. Vas a recibir del usuario información sobre antecedentes, su cuadro clínico, exploración física y estudios de laboratorio realizados\"},\n",
    "        {\"role\": \"user\", \"content\": content}\n",
    "    ]\n",
    ")\n",
    "\n",
    "print(response)"
   ]
  },
  {
   "cell_type": "code",
   "execution_count": 29,
   "id": "8667c84d-4c4c-422e-8866-7af1b42dd53d",
   "metadata": {},
   "outputs": [
    {
     "name": "stdout",
     "output_type": "stream",
     "text": [
      "El pie diabético es una complicación seria de la diabetes mellitus que puede llevar a úlceras, infecciones y, en casos graves, amputaciones. Los síntomas del pie diabético pueden variar dependiendo de la gravedad y la extensión del daño. A continuación se detallan los síntomas más comunes:\n",
      "\n",
      "1. **Neuropatía periférica**: \n",
      "   - Pérdida de sensibilidad (hipoestesia) o sensación anormal (parestesia) en los pies.\n",
      "   - Sensación de ardor o dolor, especialmente durante la noche.\n",
      "   - Debilidad muscular.\n",
      "\n",
      "2. **Problemas circulatorios**:\n",
      "   - Piel fría y pálida en los pies.\n",
      "   - Pulsos periféricos disminuidos o ausentes.\n",
      "   - Claudicación intermitente (dolor en las piernas al caminar que se alivia con el reposo).\n",
      "\n",
      "3. **Cambios en la piel y uñas**:\n",
      "   - Piel seca y agrietada.\n",
      "   - Callosidades o durezas en áreas de presión.\n",
      "   - Uñas engrosadas y deformadas.\n",
      "\n",
      "4. **Úlceras y lesiones**:\n",
      "   - Aparición de úlceras o llagas que no cicatrizan.\n",
      "   - Heridas que drenan pus o tienen mal olor.\n",
      "   - Enrojecimiento, hinchazón y calor en el área afectada.\n",
      "\n",
      "5. **Infecciones**:\n",
      "   - Signos de infección como enrojecimiento, calor, hinchazón y dolor.\n",
      "   - Fiebre en casos severos de infección.\n",
      "\n",
      "6. **Deformidades**:\n",
      "   - Dedos en martillo o en garra.\n",
      "   - Pie de Charcot (una deformidad severa del pie que incluye fracturas y dislocaciones).\n",
      "\n",
      "Es importante que cualquier paciente con diabetes preste atención a estos síntomas y consulte a un profesional de la salud si presenta alguno de ellos. La detección temprana y el manejo adecuado son cruciales para prevenir complicaciones graves.\n"
     ]
    }
   ],
   "source": [
    "print(response.choices[0].message.content)"
   ]
  },
  {
   "cell_type": "code",
   "execution_count": 32,
   "id": "0af04572-a56b-4436-bdcb-94eaba27e0b0",
   "metadata": {},
   "outputs": [],
   "source": [
    "example = {\"messages\": [{\"role\": \"system\", \"content\": \"Eres un médico experto en tratamiento de diabetes, utilizas lenguaje técnico. Utilizas tu conocimiento para proporcionar diagnóstico, debatir sobre elementos de información faltante y haces recomendaciones de procedimientos y tratamientos médicos respecto a los datos que te han proporcionado, no alucines información médica incorrecta. Vas a recibir del usuario información sobre antecedentes, su cuadro clínico, exploración física y estudios de laboratorio realizados\"}, {\"role\": \"user\", \"content\": \"Antecedentes: Paciente masculino de 60 años, sin alergias conocidas. Exfumador (dejó hace 5 años) con antecedentes de EPOC moderada. Diagnosticado de diabetes mellitus tipo 2 hace 20 años y de hipertensión arterial hace 22 años. Sin antecedentes de cardiopatía isquémica ni eventos cerebrovasculares. Historia actual: Paciente remitido a Endocrinología y Nefrología por descontrol glucémico y enfermedad renal crónica. Desde 2015 ha presentado albuminuria persistente, con un incremento progresivo. Exploración física: TA 162/88 mmHg, peso 85 kg (IMC 28.7 kg/m2). Auscultación cardiopulmonar con tonos rítmicos y soplo sistólico en foco aórtico. Abdomen blando y depresible sin masas ni dolor a la palpación. Extremidades sin edemas ni signos de insuficiencia venosa. Estudios de laboratorio: Alb/Cr 1500 mg/g, HbA1c 9.2%, Creatinina 3.2 mg/dl, TFG CKD-EPI 38 ml/min, colesterol total 220 mg/dl y LDL 130 mg/dl. Tratamiento actual: metformina 1000 mg/12h, enalapril 20 mg/24h, amlodipino 10 mg/24h y salbutamol/ipratropio 1 inhalación/8h. Intervenciones recientes: En enero de 2022 se inició empagliflozina 25 mg/24h y se aumentó enalapril a 40 mg/24h. Resultados a los 6 meses: Descenso de Alb/Cr a 1200 mg/g, HbA1c 8.5%, Creatinina 2.8 mg/dl, TFG 42 ml/min, colesterol total 200 mg/dl y LDL 110 mg/dl. Ecografía renal: riñones de tamaño normal con pérdida de diferenciación corticomedular. Tratamiento modificado: se añadió insulina glargina 20 U/24h y se inició rosuvastatina 20 mg/24h. Resultados a diciembre de 2022: Alb/Cr 950 mg/g, HbA1c 7.5%, Creatinina 2.5 mg/dl, TFG 45 ml/min, colesterol total 180 mg/dl, LDL 90 mg/dl, TA 140/80 mmHg, peso 82 kg (IMC 27.8 kg/m2).\"}]}"
   ]
  },
  {
   "cell_type": "code",
   "execution_count": 40,
   "id": "4ffaf73f-ce1a-4ec0-91d2-71bec8332d0e",
   "metadata": {},
   "outputs": [
    {
     "name": "stdout",
     "output_type": "stream",
     "text": [
      "Antecedentes: Paciente masculino de 60 años, sin alergias conocidas. Exfumador (dejó hace 5 años) con antecedentes de EPOC moderada. Diagnosticado de diabetes mellitus tipo 2 hace 20 años y de hipertensión arterial hace 22 años. Sin antecedentes de cardiopatía isquémica ni eventos cerebrovasculares. Historia actual: Paciente remitido a Endocrinología y Nefrología por descontrol glucémico y enfermedad renal crónica. Desde 2015 ha presentado albuminuria persistente, con un incremento progresivo. Exploración física: TA 162/88 mmHg, peso 85 kg (IMC 28.7 kg/m2). Auscultación cardiopulmonar con tonos rítmicos y soplo sistólico en foco aórtico. Abdomen blando y depresible sin masas ni dolor a la palpación. Extremidades sin edemas ni signos de insuficiencia venosa. Estudios de laboratorio: Alb/Cr 1500 mg/g, HbA1c 9.2%, Creatinina 3.2 mg/dl, TFG CKD-EPI 38 ml/min, colesterol total 220 mg/dl y LDL 130 mg/dl. Tratamiento actual: metformina 1000 mg/12h, enalapril 20 mg/24h, amlodipino 10 mg/24h y salbutamol/ipratropio 1 inhalación/8h. Intervenciones recientes: En enero de 2022 se inició empagliflozina 25 mg/24h y se aumentó enalapril a 40 mg/24h. Resultados a los 6 meses: Descenso de Alb/Cr a 1200 mg/g, HbA1c 8.5%, Creatinina 2.8 mg/dl, TFG 42 ml/min, colesterol total 200 mg/dl y LDL 110 mg/dl. Ecografía renal: riñones de tamaño normal con pérdida de diferenciación corticomedular. Tratamiento modificado: se añadió insulina glargina 20 U/24h y se inició rosuvastatina 20 mg/24h. Resultados a diciembre de 2022: Alb/Cr 950 mg/g, HbA1c 7.5%, Creatinina 2.5 mg/dl, TFG 45 ml/min, colesterol total 180 mg/dl, LDL 90 mg/dl, TA 140/80 mmHg, peso 82 kg (IMC 27.8 kg/m2).\n"
     ]
    }
   ],
   "source": [
    "print(example[\"messages\"][1][\"content\"])"
   ]
  },
  {
   "cell_type": "code",
   "execution_count": null,
   "id": "46f8ee68-f19e-4b95-8061-e1dd3e5cb6c8",
   "metadata": {},
   "outputs": [],
   "source": []
  },
  {
   "cell_type": "code",
   "execution_count": 48,
   "id": "0f497ce7-663c-419a-9616-17160c629b61",
   "metadata": {},
   "outputs": [],
   "source": [
    "import json\n",
    "casos = \"../casos_clinicos_unificado.jsonl\"\n",
    "with open(casos, \"r\") as infile:\n",
    "    cases = [json.loads(line) for line in infile]"
   ]
  },
  {
   "cell_type": "code",
   "execution_count": 52,
   "id": "e87dec59-bdd7-426e-9052-229380f304dc",
   "metadata": {},
   "outputs": [
    {
     "data": {
      "text/plain": [
       "42"
      ]
     },
     "execution_count": 52,
     "metadata": {},
     "output_type": "execute_result"
    }
   ],
   "source": [
    "len(cases)"
   ]
  },
  {
   "cell_type": "code",
   "execution_count": 70,
   "id": "21e980ff-326d-481e-bdd3-ff69773cb604",
   "metadata": {},
   "outputs": [],
   "source": [
    "import random\n",
    "\n",
    "string_example = json.dumps(random.choice(cases))"
   ]
  },
  {
   "cell_type": "code",
   "execution_count": 74,
   "id": "4bdf1e39-d146-40d9-9f96-64316744fea9",
   "metadata": {},
   "outputs": [
    {
     "data": {
      "text/plain": [
       "[{'role': 'system',\n",
       "  'content': 'Eres un médico experto en tratamiento de diabetes, utilizas lenguaje técnico. Utilizas tu conocimiento para proporcionar diagnostico, debatir sobre elementos de información faltante y haces recomendaciones de procedimientos y tratamientos médicos respecto a los datos que te han proporcionado, no alucines información médica incorrecta. Vas a recibir del usuario información sobre antecedentes, su cuadro clínico, exploración física y estudios de laboratorio realizados'},\n",
       " {'role': 'user',\n",
       "  'content': 'Antecedentes: Paciente masculino de 60 años, con antecedentes familiares de diabetes mellitus tipo 2 (padre) y enfermedad cardiovascular (madre y hermano). Sedentario, fumador (20 paquetes/año) y con hábitos alimentarios poco saludables. Cuadro clínico: El paciente acude a consulta por fatiga, poliuria y polidipsia de 6 meses de evolución. Refiere episodios ocasionales de mareo y cefalea. Exploración física: Peso: 95 kg, talla: 175 cm, IMC: 31 kg/m² (obesidad grado I). Presión arterial: 150/95 mmHg. Resto de la exploración física sin hallazgos relevantes. Estudios de laboratorio: • Glucosa plasmática en ayunas: 190 mg/dL • Hemoglobina glicosilada (HbA1c): 9.0% • Perfil lipídico: Colesterol total 250 mg/dL, LDL 170 mg/dL, HDL 35 mg/dL, triglicéridos 225 mg/dL • Función renal y hepática: Normal Diagnóstico: 1. Diabetes mellitus tipo 2 según criterios de la American Diabetes Association (ADA) 2021. 2. Hipertensión arterial grado 1 según la European Society of Cardiology (ESC) y la European Society of Hypertension (ESH) 2018. 3. Dislipidemia mixta según la European Society of Cardiology (ESC) y la European Atherosclerosis Society (EAS) 2019. Discusión: El paciente presenta una combinación de factores de riesgo cardiometabólico que incluyen diabetes mellitus tipo 2, hipertensión arterial y dislipidemia. Esta agrupación de factores de riesgo aumenta significativamente el riesgo de enfermedad cardiovascular y mortalidad (Mente et al., 2017). La diabetes tipo 2 se diagnostica según los criterios de la ADA (2021) mencionados en el caso anterior. El paciente cumple estos criterios por glucosa en ayunas y HbA1c elevadas, además de presentar síntomas clásicos. La hipertensión arterial se clasifica según las guías ESC/ESH (2018) en diferentes grados. Una presión arterial de 150/95 mmHg corresponde a hipertensión grado 1. La dislipidemia se define según las guías ESC/EAS (2019) por niveles elevados de colesterol total, LDL y triglicéridos, y niveles bajos de HDL. El paciente presenta una dislipidemia mixta. Los factores de riesgo presentes en este paciente incluyen antecedentes familiares, obesidad, sedentarismo, tabaquismo y dieta poco saludable (Emdin et al., 2017; Han et al., 2019). El manejo de estos factores de riesgo se basa en cambios en el estilo de vida (dieta, ejercicio, cesación tabáquica), control glucémico, tratamiento antihipertensivo y hipolipemiante, y prevención de complicaciones cardiovasculares (ADA, 2021; ESC/ESH, 2018; ESC/EAS, 2019; Cosentino et al., 2020).'},\n",
       " {'role': 'assistant',\n",
       "  'content': 'Diagnóstico: Diabetes mellitus tipo 2, hipertensión arterial grado 1, dislipidemia mixta. Conclusiones: El paciente presenta una combinación de factores de riesgo cardiometabólico que incluyen diabetes mellitus tipo 2, hipertensión arterial y dislipidemia, lo que aumenta significativamente el riesgo de enfermedad cardiovascular y mortalidad. Recomendaciones: 1. Control glucémico: Iniciar tratamiento con antidiabéticos orales y considerar la introducción de insulina si es necesario para alcanzar los objetivos de HbA1c. 2. Tratamiento antihipertensivo: Ajustar la medicación antihipertensiva para alcanzar los objetivos de presión arterial, considerando la adición de un segundo fármaco si es necesario. 3. Tratamiento hipolipemiante: Iniciar o ajustar el tratamiento con estatinas de alta intensidad para alcanzar los objetivos de LDL y reducir el riesgo cardiovascular. 4. Cambios en el estilo de vida: Promover una dieta saludable, ejercicio regular y cesación tabáquica. 5. Educación y apoyo: Proporcionar educación continua sobre el manejo de la diabetes, hipertensión y dislipidemia, y la importancia de la adherencia al tratamiento y los cambios en el estilo de vida. 6. Monitorización y reevaluación: Seguimiento regular de los niveles de glucosa, HbA1c, presión arterial y perfil lipídico, ajustando el tratamiento según la evolución del paciente. 7. Abordaje multidisciplinario: Coordinación con endocrinología, cardiología y nutrición para un manejo integral del paciente.'}]"
      ]
     },
     "execution_count": 74,
     "metadata": {},
     "output_type": "execute_result"
    }
   ],
   "source": [
    "json.loads(string_example)[\"messages\"]"
   ]
  },
  {
   "cell_type": "code",
   "execution_count": null,
   "id": "c08a686a-d400-4783-b4a3-eb45934b3822",
   "metadata": {},
   "outputs": [],
   "source": []
  },
  {
   "cell_type": "code",
   "execution_count": 68,
   "id": "434ae32f-269d-4a22-a309-a14ecbf40ff6",
   "metadata": {},
   "outputs": [],
   "source": [
    "selected_case = random.choice(cases)\n",
    "string = f\"\"\"Eres un asistente especializado en generar datos sinteticos de diagnósticos médicos sobre diabetes con la finalidad de generar información para el fine tunning de modelos de llm, especificamente de gpt-3.5-turbo. Usas un lenguaje médico técnico y describes a detalle sintomatología, caracteristicas y diagnostico junto al tratamiento propuesto. Solamente genera el caso, no escribas nada más fuera del json. Los datos de paciente y diagnóstico los generas de la manera más realista posible y sigues el formato de jsonl de una una línea mostrado en el siguiente ejemplo:\n",
    "{selected_case}\"\"\""
   ]
  },
  {
   "cell_type": "code",
   "execution_count": 89,
   "id": "d1a981c1-4950-4f4b-ba9f-23d96623d7fc",
   "metadata": {},
   "outputs": [
    {
     "name": "stdout",
     "output_type": "stream",
     "text": [
      "Eres un asistente especializado en generar datos sinteticos de diagnósticos médicos sobre diabetes con la finalidad de generar información para el fine tunning de modelos de llm, especificamente de gpt-3.5-turbo. Usas un lenguaje médico técnico y describes a detalle sintomatología, caracteristicas y diagnostico junto al tratamiento propuesto. Solamente genera el caso, no escribas nada más fuera del json. Los datos de paciente y diagnóstico los generas de la manera más realista posible y sigues el formato de jsonl de una una línea mostrado en el siguiente ejemplo:\n",
      "{\"messages\": [{\"role\": \"system\", \"content\": \"Eres un médico experto en tratamiento de diabetes, utilizas lenguaje técnico. Utilizas tu conocimiento para proporcionar diagnostico, debatir sobre elementos de información faltante y haces recomendaciones de procedimientos y tratamientos médicos respecto a los datos que te han proporcionado, no alucines información médica incorrecta. Vas a recibir del usuario información sobre antecedentes, su cuadro clínico, exploración física y estudios de laboratorio realizados\"}, {\"role\": \"user\", \"content\": \"Antecedentes personales: Presentamos una paciente mujer de 68 años con diabetes tipo 2 (DM) que ingresa por hiperglucemia, debilidad generalizada y clínica cardinal, consistente en poliuria y polidipsia intensas, así como una importante pérdida de peso. Entre sus antecedentes destacan hipotiroidismo, flutter auricular paroxístico, prótesis aórtica mecánica y enfermedad renal crónica (ERC), grado 3b. Presentaba una DM de 6 años de evolución con escasa adherencia al tratamiento en últimos meses. Tratamiento al ingreso: levotiroxina, warfarina, bisoprolol, digoxina, metformina y gemfibrocilo. La paciente es viuda, vive con su hijo, realiza una vida activa y es independiente para las actividades instrumentales de la vida diaria. En exploración presenta un peso de 70,3 kg, un índice de masa corporal (IMC) de 28 kg/m2, se ausculta un soplo sistólico y no hay otros hallazgos patológicos significativos. En la analítica de ingreso destacan los siguientes valores: glucosa 416 mg/dL, hemoglobina glicosilada (HbA1c) 11,2%, creatinina 1,2 mg/dL y filtrado glomerular de 41 ml/min/1.73 m2, ácido úrico 9 mg/dL, triglicéridos 510 mg/dL, colesterol total 302 mg/dL, colesterol-LDL 201 mg/dL; en orina presenta glucosuria importante (+++) sin cuerpos cetónicos. Hemograma, coagulación y gasometría venosa eran normales. En el electrocardiograma (ECG) se registra ritmo sinusal y la radiografía de tórax es normal. En la anamnesis más dirigida la paciente admite una dieta irregular en horarios y composición, con algunas transgresiones, y que su glucómetro no funciona desde hace un tiempo. Al ingreso se inicia control glucémico preprandial y ante el resultado de HbA1c y la clínica cardinal, se inicia insulinización en régimen de bolo-basal junto con correcciones prandiales. Se comienza con 16 u. de insulina glargina en comida y 4 u. de insulina aspart en desayuno, comida y cena. La dosificación de ambos tipos de insulina se incrementa rápidamente en los siguientes días, llegando al sexto día de ingreso hospitalario a las 46 u. de insulina glargina y 14 u. de insulina aspart en cada comida, además de dosis de corrección de hasta 40 u. diarias de insulina aspart. Dada la necesidad de seguir aumentando el tratamiento insulínico y que se habían alcanzado dosis elevadas de insulina basal se plantea un cambio en la estrategia de tratamiento: se sustituyen ambos tipos de insulina por una insulina mixta o premezclada (Novomix 30®, 30% de insulina soluble aspart y 70% de insulina aspart cristalizada con protamina) 60 u. en desayuno y 40 u. en cena); además iniciamos fármacos antidiabéticos orales (ADO): metformina (850 mg/día) y dapagliflozina (10mg/día). Con ello se consigue una mejoría progresiva del control glucémico. Se instruye a la paciente en educación diabetológica básica (autoadministración de insulina, manejo de glucómetro, recuperación de hipoglucemias, etc.), y recibe el alta prescribiéndose control ambulatorio semanal, donde se incide en la adecuación de la dieta, actividad, control glucémico e hipoglucemias. En las semanas siguientes se obtiene un adecuado control glucémico, sin hipoglucemias ni necesidad de inyecciones adicionales de insulina, y se reduce progresivamente la dosis de insulina premezclada. En diabetes, logró superar la clínica cardinal, mejoró sus hábitos dietéticos y de actividad física y alcanzó una HbA1c de 7.6% transcurrido un mes del alta.\"}, {\"role\": \"assistant\", \"content\": \"Diagnóstico: Diabetes mellitus tipo 2 mal controlada, hiperglucemia severa, enfermedad renal crónica (ERC) grado 3b. Conclusiones: La paciente presentó un cuadro de hiperglucemia severa con clínica cardinal y mal control glucémico, que fue manejado con éxito mediante insulinización intensiva y ajuste de tratamiento antidiabético oral. Recomendaciones: 1. Control glucémico: Continuar con el régimen de insulina mixta (Novomix 30®) y ajustar las dosis según la monitorización continua de glucosa. 2. Tratamiento farmacológico: Mantener el tratamiento con metformina y dapagliflozina para el control glucémico y cardiovascular. 3. Educación diabetológica: Proporcionar educación continua sobre el manejo de la diabetes, incluyendo la autoadministración de insulina, el uso del glucómetro y la recuperación de hipoglucemias. 4. Evaluación continua: Realizar seguimiento regular de los niveles de glucosa y HbA1c, ajustando el tratamiento según la evolución del paciente. 5. Abordaje multidisciplinario: Coordinación con endocrinología, nefrología y cardiología para un manejo integral del paciente, considerando su enfermedad renal crónica y riesgo cardiovascular. 6. Evaluación de comorbilidades: Mantener el control del hipotiroidismo, flutter auricular y otras comorbilidades mediante el tratamiento con levotiroxina, warfarina, bisoprolol y digoxina. 7. Estilo de vida: Promover una dieta mediterránea y actividad física adecuada a su edad y condiciones para alcanzar un IMC cercano al normopeso.\"}]}\n",
      "            \n"
     ]
    }
   ],
   "source": [
    "print(string.replace(\"'\",'\"'))"
   ]
  },
  {
   "cell_type": "code",
   "execution_count": 95,
   "id": "13801aad-6aeb-4ec6-b707-bc992ed5011d",
   "metadata": {},
   "outputs": [
    {
     "ename": "SyntaxError",
     "evalue": "unterminated string literal (detected at line 17) (2430190087.py, line 17)",
     "output_type": "error",
     "traceback": [
      "\u001b[0;36m  Cell \u001b[0;32mIn[95], line 17\u001b[0;36m\u001b[0m\n\u001b[0;31m    string = f\"Eres un asistente especializado en generar datos sinteticos de diagnósticos médicos sobre diabetes con la finalidad de generar información para el fine tunning de modelos de llm, especificamente de gpt-3.5-turbo. Usas un lenguaje médico técnico y describes a detalle sintomatología, caracteristicas y diagnostico junto al tratamiento propuesto. Solamente genera el caso, no escribas nada más fuera del json. Los datos de paciente y diagnóstico los generas de la manera más realista posible y sigues el formato de jsonl de una una línea mostrado en el siguiente ejemplo, no me contestes en markdown y asegurate de generar todo en una sola linea:\u001b[0m\n\u001b[0m             ^\u001b[0m\n\u001b[0;31mSyntaxError\u001b[0m\u001b[0;31m:\u001b[0m unterminated string literal (detected at line 17)\n"
     ]
    }
   ],
   "source": [
    "def generate_synthetic_data(input_path, output_path, num_calls, api_key):\n",
    "    import json\n",
    "    import random\n",
    "    from openai import OpenAI\n",
    "    try:\n",
    "        client = OpenAI(api_key = api_key)\n",
    "        #apertura y carga de los casos\n",
    "        with open(input_path, \"r\") as infile:\n",
    "            cases = [json.loads(line) for line in infile]\n",
    "        #declaracion el path de salida e inicio de llamadas\n",
    "        with open(output_path, \"w\") as outfile:\n",
    "            for i in range(num_calls):\n",
    "                print(f\"Iniciando caso {i} de {num_calls}\")\n",
    "                #seleccion random de un caso del archivo de entrada\n",
    "                selected_case = random.choice(cases)\n",
    "                #creacion del string con el caso random para el prompt del sistema\n",
    "                string = f\"Eres un asistente especializado en generar datos sinteticos de diagnósticos médicos sobre diabetes con la finalidad de generar información para el fine tunning de modelos de llm, especificamente de gpt-3.5-turbo. Usas un lenguaje médico técnico y describes a detalle sintomatología, caracteristicas y diagnostico junto al tratamiento propuesto. Solamente genera el caso, no escribas nada más fuera del json. Los datos de paciente y diagnóstico los generas de la manera más realista posible y sigues el formato de jsonl de una una línea mostrado en el siguiente ejemplo, no me contestes en markdown y asegurate de generar todo en una sola linea: \\n{selected_case}\"\n",
    "    \n",
    "                #inicio de la llamada\n",
    "                response = client.chat.completions.create(\n",
    "                    model = \"gpt-4o\",\n",
    "                    temperature = 0.5,\n",
    "                    messages = [\n",
    "                        {\"role\": \"system\", \"content\": string},\n",
    "                        {\"role\": \"user\", \"content\": \"Genera un caso detallado y realista\"}\n",
    "                    ]\n",
    "                    \n",
    "                )\n",
    "                assistant_response = response.choices[0].message.content.replace(\"'\",'\"')\n",
    "                #json_response = json.loads(assistant_response)\n",
    "    \n",
    "                #escritura en el nuevo archivo\n",
    "                outfile.write(assistant_response + \"\\n\")\n",
    "    except Exception as e:\n",
    "        return(e)"
   ]
  },
  {
   "cell_type": "code",
   "execution_count": 94,
   "id": "718769f8-bf50-4df1-8f0d-b5893d827932",
   "metadata": {},
   "outputs": [],
   "source": [
    "\n",
    "\n",
    "generate_synthetic_data(input_path = casos, output_path = \"../raw_data/test.jsonl\", api_key = api_key, num_calls = 5)"
   ]
  },
  {
   "cell_type": "code",
   "execution_count": null,
   "id": "d35b1134-5b1e-4a8f-9c85-ed996cb193dc",
   "metadata": {},
   "outputs": [],
   "source": []
  }
 ],
 "metadata": {
  "kernelspec": {
   "display_name": "Python 3 (ipykernel)",
   "language": "python",
   "name": "python3"
  },
  "language_info": {
   "codemirror_mode": {
    "name": "ipython",
    "version": 3
   },
   "file_extension": ".py",
   "mimetype": "text/x-python",
   "name": "python",
   "nbconvert_exporter": "python",
   "pygments_lexer": "ipython3",
   "version": "3.11.8"
  },
  "widgets": {
   "application/vnd.jupyter.widget-state+json": {
    "state": {},
    "version_major": 2,
    "version_minor": 0
   }
  }
 },
 "nbformat": 4,
 "nbformat_minor": 5
}
